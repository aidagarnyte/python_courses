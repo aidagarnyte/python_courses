{
 "cells": [
  {
   "cell_type": "code",
   "execution_count": 4,
   "metadata": {},
   "outputs": [
    {
     "name": "stdout",
     "output_type": "stream",
     "text": [
      "['Vilnius', 'Kaunas', 'London']\n"
     ]
    }
   ],
   "source": [
    "cities = ['Vilnius', 'Kaunas', 'London']\n",
    "print(cities)"
   ]
  },
  {
   "cell_type": "code",
   "execution_count": 5,
   "metadata": {},
   "outputs": [
    {
     "name": "stdout",
     "output_type": "stream",
     "text": [
      "1\n"
     ]
    }
   ],
   "source": [
    "nested_list = [12,67, [5486,8,[[0, 1, 54]], 625 ] ]\n",
    "print(nested_list[2][2][0][1])"
   ]
  },
  {
   "cell_type": "code",
   "execution_count": 23,
   "metadata": {},
   "outputs": [
    {
     "data": {
      "text/plain": [
       "True"
      ]
     },
     "execution_count": 23,
     "metadata": {},
     "output_type": "execute_result"
    }
   ],
   "source": [
    "numbers = [1,4,64,32,1246]\n",
    "len(numbers)\n",
    "1246 in numbers"
   ]
  },
  {
   "cell_type": "code",
   "execution_count": 24,
   "metadata": {},
   "outputs": [],
   "source": [
    "numbers.remove(64)"
   ]
  },
  {
   "cell_type": "code",
   "execution_count": 26,
   "metadata": {},
   "outputs": [
    {
     "data": {
      "text/plain": [
       "1"
      ]
     },
     "execution_count": 26,
     "metadata": {},
     "output_type": "execute_result"
    }
   ],
   "source": [
    "numbers.pop(0)"
   ]
  },
  {
   "cell_type": "code",
   "execution_count": 27,
   "metadata": {},
   "outputs": [],
   "source": [
    "numbers.append(69)"
   ]
  },
  {
   "cell_type": "code",
   "execution_count": 31,
   "metadata": {},
   "outputs": [
    {
     "data": {
      "text/plain": [
       "1"
      ]
     },
     "execution_count": 31,
     "metadata": {},
     "output_type": "execute_result"
    }
   ],
   "source": [
    "numbers.sort()\n",
    "numbers.count(4)"
   ]
  },
  {
   "cell_type": "code",
   "execution_count": 5,
   "metadata": {},
   "outputs": [
    {
     "data": {
      "text/plain": [
       "8"
      ]
     },
     "execution_count": 5,
     "metadata": {},
     "output_type": "execute_result"
    }
   ],
   "source": [
    "my_tuple = (1, 2, ['3', 4, 5], [6, [7, (8)]])\n",
    "my_tuple[3][1][1]"
   ]
  },
  {
   "cell_type": "code",
   "execution_count": 7,
   "metadata": {},
   "outputs": [
    {
     "name": "stdout",
     "output_type": "stream",
     "text": [
      "(11, [222, 22], 44, 55)\n"
     ]
    }
   ],
   "source": [
    "tuple1 = (11, [222, 33], 44, 55)\n",
    "y = list(tuple1)\n",
    "y[1][1] = 22\n",
    "tuple1 = tuple(y)\n",
    "\n",
    "print(tuple1)"
   ]
  },
  {
   "cell_type": "code",
   "execution_count": 13,
   "metadata": {},
   "outputs": [],
   "source": [
    "tuple_1 = (1,5,3)\n",
    "tuple_2 = (10,25,15)"
   ]
  },
  {
   "cell_type": "code",
   "execution_count": 15,
   "metadata": {},
   "outputs": [],
   "source": [
    "tuple_3 = tuple_1 + tuple_2\n",
    "y=list(tuple_1)\n",
    "y.pop()\n",
    "tuple_1=tuple(y)"
   ]
  },
  {
   "cell_type": "code",
   "execution_count": 16,
   "metadata": {},
   "outputs": [
    {
     "data": {
      "text/plain": [
       "[1, 3, 5, 10, 15, 25]"
      ]
     },
     "execution_count": 16,
     "metadata": {},
     "output_type": "execute_result"
    }
   ],
   "source": [
    "sorted(tuple_3)"
   ]
  },
  {
   "cell_type": "code",
   "execution_count": 1,
   "metadata": {},
   "outputs": [
    {
     "name": "stdout",
     "output_type": "stream",
     "text": [
      "1 2 3 4 5 6 7 8 9 10 "
     ]
    }
   ],
   "source": [
    "for n in range(1, 11):\n",
    "    print(n, end=' ')"
   ]
  },
  {
   "cell_type": "code",
   "execution_count": 2,
   "metadata": {},
   "outputs": [],
   "source": [
    "user_input = input('enter a number')"
   ]
  },
  {
   "cell_type": "code",
   "execution_count": 16,
   "metadata": {},
   "outputs": [
    {
     "name": "stdout",
     "output_type": "stream",
     "text": [
      "Monday\n",
      "10\n",
      "11\n",
      "12\n",
      "13\n",
      "14\n",
      "15\n",
      "16\n",
      "17\n",
      "18\n",
      "19\n",
      "Tuesday\n",
      "10\n",
      "11\n",
      "12\n",
      "13\n",
      "14\n",
      "15\n",
      "16\n",
      "17\n",
      "18\n",
      "19\n",
      "Wednesday\n",
      "10\n",
      "11\n",
      "12\n",
      "13\n",
      "14\n",
      "15\n",
      "16\n",
      "17\n",
      "18\n",
      "19\n",
      "Thursday\n",
      "10\n",
      "11\n",
      "12\n",
      "13\n",
      "14\n",
      "15\n",
      "16\n",
      "17\n",
      "18\n",
      "19\n",
      "Friday\n",
      "10\n",
      "11\n",
      "12\n",
      "13\n",
      "14\n",
      "15\n",
      "16\n",
      "17\n",
      "18\n",
      "19\n",
      "Saturday\n",
      "10\n",
      "11\n",
      "12\n",
      "13\n",
      "14\n",
      "15\n",
      "16\n",
      "17\n",
      "18\n",
      "19\n",
      "Sunday\n",
      "10\n",
      "11\n",
      "12\n",
      "13\n",
      "14\n",
      "15\n",
      "16\n",
      "17\n",
      "18\n",
      "19\n",
      "['Monday 10', 'Monday 11', 'Monday 12', 'Monday 13', 'Monday 14', 'Monday 15', 'Monday 16', 'Monday 17', 'Monday 18', 'Monday 19', 'Tuesday 10', 'Tuesday 11', 'Tuesday 12', 'Tuesday 13', 'Tuesday 14', 'Tuesday 15', 'Tuesday 16', 'Tuesday 17', 'Tuesday 18', 'Tuesday 19', 'Wednesday 10', 'Wednesday 11', 'Wednesday 12', 'Wednesday 13', 'Wednesday 14', 'Wednesday 15', 'Wednesday 16', 'Wednesday 17', 'Wednesday 18', 'Wednesday 19', 'Thursday 10', 'Thursday 11', 'Thursday 12', 'Thursday 13', 'Thursday 14', 'Thursday 15', 'Thursday 16', 'Thursday 17', 'Thursday 18', 'Thursday 19', 'Friday 10', 'Friday 11', 'Friday 12', 'Friday 13', 'Friday 14', 'Friday 15', 'Friday 16', 'Friday 17', 'Friday 18', 'Friday 19', 'Saturday 10', 'Saturday 11', 'Saturday 12', 'Saturday 13', 'Saturday 14', 'Saturday 15', 'Saturday 16', 'Saturday 17', 'Saturday 18', 'Saturday 19', 'Sunday 10', 'Sunday 11', 'Sunday 12', 'Sunday 13', 'Sunday 14', 'Sunday 15', 'Sunday 16', 'Sunday 17', 'Sunday 18', 'Sunday 19']\n"
     ]
    }
   ],
   "source": [
    "days = ('Monday', 'Tuesday', 'Wednesday', 'Thursday', 'Friday', 'Saturday' , 'Sunday')\n",
    "hours = [10, 11, 12, 13, 14, 15, 16, 17, 18, 19]\n",
    "\n",
    "combination=[]\n",
    "\n",
    "for day in days:\n",
    "    print(day)\n",
    "    for hour in hours:\n",
    "        print(hour)\n",
    "        combination.append(f'{day} {hour}')\n",
    "\n",
    "print(combination)"
   ]
  },
  {
   "cell_type": "code",
   "execution_count": 4,
   "metadata": {},
   "outputs": [
    {
     "name": "stdout",
     "output_type": "stream",
     "text": [
      "Ford\n",
      "3\n"
     ]
    }
   ],
   "source": [
    "car =\t{\n",
    "  \"brand\": \"Ford\",\n",
    "  \"model\": \"Mustang\",\n",
    "  \"year\": 1964\n",
    "}\n",
    "print(car.get('brand'))\n",
    "print(len(car))\n",
    "car[\"year\"] = 2020"
   ]
  },
  {
   "cell_type": "code",
   "execution_count": 5,
   "metadata": {},
   "outputs": [
    {
     "name": "stdout",
     "output_type": "stream",
     "text": [
      "{'brand': 'Ford', 'model': 'Mustang', 'year': 2020, 'color': 'red', 'used': True}\n"
     ]
    }
   ],
   "source": [
    "car['color']= 'red'\n",
    "car['used'] = True\n",
    "print(car)"
   ]
  },
  {
   "cell_type": "code",
   "execution_count": 6,
   "metadata": {},
   "outputs": [
    {
     "name": "stdout",
     "output_type": "stream",
     "text": [
      "{'model': 'Mustang', 'year': 2020, 'color': 'red', 'used': True}\n",
      "{'model': 'Mustang', 'year': None, 'color': 'red', 'used': True}\n"
     ]
    }
   ],
   "source": [
    "car.pop('brand')\n",
    "print(car)\n",
    "car['year']=None\n",
    "print(car)"
   ]
  },
  {
   "cell_type": "code",
   "execution_count": 1,
   "metadata": {},
   "outputs": [],
   "source": [
    "fruits = {\"apple\", \"banana\", \"cherry\"}"
   ]
  },
  {
   "cell_type": "markdown",
   "metadata": {},
   "source": [
    "Declare a function that accepts two numbers, if the sum of numbers is even, return their product. If not, divide the number of each other."
   ]
  },
  {
   "cell_type": "code",
   "execution_count": 7,
   "metadata": {},
   "outputs": [
    {
     "name": "stdout",
     "output_type": "stream",
     "text": [
      "12\n",
      "2.0\n"
     ]
    }
   ],
   "source": [
    "def myFunction(num_1, num_2):\n",
    "    if (num_1+num_2)%2==0:\n",
    "        return num_1*num_2\n",
    "    else:\n",
    "        return num_1/num_2\n",
    "\n",
    "print(myFunction(2,6))\n",
    "print(myFunction(10,5))"
   ]
  },
  {
   "cell_type": "markdown",
   "metadata": {},
   "source": [
    "Declare a function that accepts a single variable of string type, assign the function to a new variable, and call it through the new variable."
   ]
  },
  {
   "cell_type": "code",
   "execution_count": 9,
   "metadata": {},
   "outputs": [
    {
     "data": {
      "text/plain": [
       "6.666666666666667"
      ]
     },
     "execution_count": 9,
     "metadata": {},
     "output_type": "execute_result"
    }
   ],
   "source": [
    "my_function_variable = myFunction\n",
    "my_function_variable(20,3)"
   ]
  },
  {
   "cell_type": "markdown",
   "metadata": {},
   "source": [
    "How many numbers are divisible by 1 to 10 inclusive?"
   ]
  },
  {
   "cell_type": "code",
   "execution_count": 13,
   "metadata": {},
   "outputs": [
    {
     "name": "stdout",
     "output_type": "stream",
     "text": [
      "{1: 0}\n",
      "{1: 7, 2: 0}\n",
      "{1: 7, 2: 3, 3: 0}\n",
      "{1: 7, 2: 3, 3: 1, 4: 0}\n",
      "{1: 7, 2: 3, 3: 1, 4: 0, 5: 0}\n",
      "{1: 7, 2: 3, 3: 1, 4: 0, 5: 2, 6: 0}\n",
      "{1: 7, 2: 3, 3: 1, 4: 0, 5: 2, 6: 1, 7: 0}\n",
      "{1: 7, 2: 3, 3: 1, 4: 0, 5: 2, 6: 1, 7: 1, 8: 0}\n",
      "{1: 7, 2: 3, 3: 1, 4: 0, 5: 2, 6: 1, 7: 1, 8: 0, 9: 0}\n",
      "{1: 7, 2: 3, 3: 1, 4: 0, 5: 2, 6: 1, 7: 1, 8: 0, 9: 0, 10: 0}\n"
     ]
    },
    {
     "data": {
      "text/plain": [
       "{1: 7, 2: 3, 3: 1, 4: 0, 5: 2, 6: 1, 7: 1, 8: 0, 9: 0, 10: 1}"
      ]
     },
     "execution_count": 13,
     "metadata": {},
     "output_type": "execute_result"
    }
   ],
   "source": [
    "def my_dict_function(*args):\n",
    "    my_dict={}\n",
    "\n",
    "    for i in range(1,11):\n",
    "        my_dict[i]=0 #we set to 0 because we want to calculate how many numbers are dividible from 1 to 10, so if there are none, it would be 0\n",
    "        print(my_dict)\n",
    "        for number in args:\n",
    "            if number % i == 0:\n",
    "                my_dict[i]+=1\n",
    "\n",
    "    return my_dict\n",
    "\n",
    "my_dict_function(1,2,65,30,31,22,7)"
   ]
  },
  {
   "cell_type": "markdown",
   "metadata": {},
   "source": [
    "Write a function that accepts two variables of list type, removes all values greater than 10 from the first list, leaves only values with at least two digits in the second, sum the values of the first list, sum the values of the second, return the product of the two modified lists."
   ]
  },
  {
   "cell_type": "code",
   "execution_count": 16,
   "metadata": {},
   "outputs": [
    {
     "name": "stdout",
     "output_type": "stream",
     "text": [
      "[10, 9, 6, 2, 7]\n",
      "[20, 642, 33, 76]\n",
      "34\n",
      "771\n",
      "26214\n"
     ]
    }
   ],
   "source": [
    "def functionExercise(list1,list2):\n",
    "    list1=[item1 for item1 in list1 if item1<=10]\n",
    "    print(list1)\n",
    "    list2=[item2 for item2 in list2 if len(str(abs(item2)))>=2]\n",
    "    print(list2)\n",
    "    sum1=sum(list1)\n",
    "    print(sum1)\n",
    "    sum2=sum(list2)\n",
    "    print(sum2)\n",
    "    return sum1*sum2\n",
    "\n",
    "print(functionExercise([10,9,6,16,15,55,2,7],[20,642,33,76,9,7,2]))"
   ]
  },
  {
   "cell_type": "markdown",
   "metadata": {},
   "source": [
    "Write a function that will accept the list and check if the list member n + 1 is greater by 1 than member n, if all consecutive list members are greater than 1, then there is no anomaly, if even 1 member does not match the sequence, then there is an anomaly."
   ]
  },
  {
   "cell_type": "code",
   "execution_count": null,
   "metadata": {},
   "outputs": [],
   "source": [
    "def anomaly_checker(list1)"
   ]
  }
 ],
 "metadata": {
  "kernelspec": {
   "display_name": "Python 3",
   "language": "python",
   "name": "python3"
  },
  "language_info": {
   "codemirror_mode": {
    "name": "ipython",
    "version": 3
   },
   "file_extension": ".py",
   "mimetype": "text/x-python",
   "name": "python",
   "nbconvert_exporter": "python",
   "pygments_lexer": "ipython3",
   "version": "3.8.13 (default, Oct  4 2022, 14:00:32) \n[GCC 9.4.0]"
  },
  "orig_nbformat": 4,
  "vscode": {
   "interpreter": {
    "hash": "110cc1dee26208153f2972f08a2ad52b6a56238dc66d48e87fb757ef2996db56"
   }
  }
 },
 "nbformat": 4,
 "nbformat_minor": 2
}
